{
 "cells": [
  {
   "cell_type": "markdown",
   "metadata": {},
   "source": [
    "## This notebook contains code for the descriptive stats on my #okboomer Twitter data."
   ]
  },
  {
   "cell_type": "code",
   "execution_count": 1,
   "metadata": {},
   "outputs": [],
   "source": [
    "#setup\n",
    "import csv\n",
    "import nltk\n",
    "import matplotlib\n",
    "from nltk import FreqDist\n",
    "import matplotlib.pyplot as plt"
   ]
  },
  {
   "cell_type": "code",
   "execution_count": 2,
   "metadata": {},
   "outputs": [],
   "source": [
    "#read in all words from the clean_tweets in the csv into a list\n",
    "tweets = []\n",
    "with open (\"/Users/kpuczkowskyj/Desktop/ADA/applied-data-analytics/My_Work/Text_Data/boomer.csv\",'r',encoding=\"UTF-8\") as ifile :\n",
    "    next(ifile)\n",
    "    for idx, line in enumerate(ifile.readlines()) :\n",
    "        line = line.strip().split(\",\")\n",
    "        \n",
    "        if len(line) >= 6:\n",
    "            tweets.extend(line[4].split())"
   ]
  },
  {
   "cell_type": "markdown",
   "metadata": {},
   "source": [
    "## Lexical Diversity"
   ]
  },
  {
   "cell_type": "code",
   "execution_count": 3,
   "metadata": {},
   "outputs": [
    {
     "name": "stdout",
     "output_type": "stream",
     "text": [
      "3.3431179523894756\n"
     ]
    }
   ],
   "source": [
    "#create lexical diveristy function\n",
    "def lexical_diversity(text) :\n",
    "    return(len(text)/len(set(text)))\n",
    "\n",
    "#calculate\n",
    "print(lexical_diversity(tweets))"
   ]
  },
  {
   "cell_type": "markdown",
   "metadata": {},
   "source": [
    "## Frequency Distribution"
   ]
  },
  {
   "cell_type": "code",
   "execution_count": 4,
   "metadata": {
    "scrolled": true
   },
   "outputs": [],
   "source": [
    "#calculate freq dist & 50 most common \n",
    "tweets_FD = FreqDist(tweets)\n",
    "\n",
    "most_common = tweets_FD.most_common(50)"
   ]
  },
  {
   "cell_type": "code",
   "execution_count": 5,
   "metadata": {
    "scrolled": true
   },
   "outputs": [
    {
     "data": {
      "text/plain": [
       "[('I', 556),\n",
       " ('’', 294),\n",
       " ('0', 286),\n",
       " ('the', 156),\n",
       " ('boomer', 133),\n",
       " ('...', 132),\n",
       " ('“', 123),\n",
       " (\"'s\", 120),\n",
       " ('a', 119),\n",
       " ('”', 112),\n",
       " ('…', 108),\n",
       " ('to', 97),\n",
       " ('This', 88),\n",
       " ('say', 87),\n",
       " ('in', 86),\n",
       " ('#okboomer', 82),\n",
       " ('people', 81),\n",
       " ('you', 79),\n",
       " ('``', 79),\n",
       " ('time', 78),\n",
       " ('The', 75),\n",
       " ('0.2', 72),\n",
       " ('and', 72),\n",
       " ('old', 71),\n",
       " ('You', 67),\n",
       " ('like', 66),\n",
       " ('generation', 65),\n",
       " ('of', 62),\n",
       " (\"n't\", 59),\n",
       " ('is', 59),\n",
       " ('get', 57),\n",
       " (\"''\", 56),\n",
       " ('And', 54),\n",
       " ('0.5', 53),\n",
       " ('Boomers', 53),\n",
       " ('know', 50),\n",
       " ('It', 50),\n",
       " ('are', 50),\n",
       " ('us', 50),\n",
       " ('one', 48),\n",
       " ('amp', 45),\n",
       " ('age', 45),\n",
       " ('boomers', 44),\n",
       " ('ok', 43),\n",
       " ('think', 43),\n",
       " ('My', 42),\n",
       " ('Boomer', 42),\n",
       " ('#okboomer\"', 42),\n",
       " ('got', 39),\n",
       " (\"'m\", 39)]"
      ]
     },
     "execution_count": 5,
     "metadata": {},
     "output_type": "execute_result"
    }
   ],
   "source": [
    "most_common"
   ]
  },
  {
   "cell_type": "code",
   "execution_count": 6,
   "metadata": {},
   "outputs": [
    {
     "data": {
      "image/png": "[encoded data removed]",
      "text/plain": [
       "<Figure size 432x288 with 1 Axes>"
      ]
     },
     "metadata": {
      "needs_background": "light"
     },
     "output_type": "display_data"
    },
    {
     "data": {
      "text/plain": [
       "<matplotlib.axes._subplots.AxesSubplot at 0x1a1969a6a0>"
      ]
     },
     "execution_count": 6,
     "metadata": {},
     "output_type": "execute_result"
    }
   ],
   "source": [
    "#plot 50 most common by count\n",
    "tweets_FD.plot(50, cumulative=True)"
   ]
  },
  {
   "cell_type": "code",
   "execution_count": null,
   "metadata": {},
   "outputs": [],
   "source": []
  }
 ],
 "metadata": {
  "kernelspec": {
   "display_name": "Python 3",
   "language": "python",
   "name": "python3"
  },
  "language_info": {
   "codemirror_mode": {
    "name": "ipython",
    "version": 3
   },
   "file_extension": ".py",
   "mimetype": "text/x-python",
   "name": "python",
   "nbconvert_exporter": "python",
   "pygments_lexer": "ipython3",
   "version": "3.7.3"
  }
 },
 "nbformat": 4,
 "nbformat_minor": 2
}
