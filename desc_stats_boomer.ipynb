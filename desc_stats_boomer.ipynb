{
 "cells": [
  {
   "cell_type": "markdown",
   "metadata": {},
   "source": [
    "## This notebook contains code for the descriptive stats on my #okboomer Twitter data."
   ]
  },
  {
   "cell_type": "code",
   "execution_count": 1,
   "metadata": {},
   "outputs": [],
   "source": [
    "#setup\n",
    "import csv\n",
    "import nltk\n",
    "import matplotlib\n",
    "from nltk import FreqDist\n",
    "import matplotlib.pyplot as plt\n",
    "from nltk.corpus import stopwords\n",
    "from string import punctuation "
   ]
  },
  {
   "cell_type": "code",
   "execution_count": 2,
   "metadata": {},
   "outputs": [],
   "source": [
    "#read in all words from the clean_tweets in the csv into a list\n",
    "tweets = []\n",
    "with open (\"/Users/kpuczkowskyj/Desktop/ADA/applied-data-analytics/My_Work/Text_Data/boomer.csv\",'r',encoding=\"UTF-8\") as ifile :\n",
    "    next(ifile)\n",
    "    for idx, line in enumerate(ifile.readlines()) :\n",
    "        line = line.strip().split(\",\")\n",
    "        \n",
    "        if len(line) >= 6:\n",
    "            tweets.extend(line[4].split())\n",
    "            "
   ]
  },
  {
   "cell_type": "code",
   "execution_count": 3,
   "metadata": {},
   "outputs": [],
   "source": [
    "# had to re-clean the stopwords & punctuation\n",
    "cleaner_tweets = [w.lower() for w in tweets if w not in set(stopwords.words('english'))]\n",
    "cleanerer_tweets = [ch.lower() for ch in cleaner_tweets if ch not in set(punctuation)]"
   ]
  },
  {
   "cell_type": "markdown",
   "metadata": {},
   "source": [
    "## Lexical Diversity"
   ]
  },
  {
   "cell_type": "code",
   "execution_count": 4,
   "metadata": {},
   "outputs": [
    {
     "name": "stdout",
     "output_type": "stream",
     "text": [
      "3.3902193600321997\n"
     ]
    }
   ],
   "source": [
    "#create lexical diveristy function\n",
    "def lexical_diversity(text) :\n",
    "    return(len(text)/len(set(text)))\n",
    "\n",
    "#calculate\n",
    "print(lexical_diversity(cleaner_tweets))"
   ]
  },
  {
   "cell_type": "markdown",
   "metadata": {},
   "source": [
    "## Frequency Distribution"
   ]
  },
  {
   "cell_type": "code",
   "execution_count": 5,
   "metadata": {
    "scrolled": true
   },
   "outputs": [],
   "source": [
    "#calculate freq dist & 50 most common \n",
    "tweets_FD = FreqDist(cleaner_tweets)\n",
    "\n",
    "most_common = tweets_FD.most_common(50)"
   ]
  },
  {
   "cell_type": "code",
   "execution_count": 6,
   "metadata": {
    "collapsed": true
   },
   "outputs": [
    {
     "data": {
      "text/plain": [
       "[('i', 556),\n",
       " ('’', 294),\n",
       " ('0', 286),\n",
       " ('boomer', 178),\n",
       " ('...', 132),\n",
       " ('“', 123),\n",
       " (\"'s\", 120),\n",
       " ('”', 112),\n",
       " ('…', 108),\n",
       " ('#okboomer', 106),\n",
       " ('boomers', 98),\n",
       " ('this', 91),\n",
       " ('ok', 90),\n",
       " ('say', 87),\n",
       " ('people', 86),\n",
       " ('the', 81),\n",
       " ('``', 79),\n",
       " ('time', 79),\n",
       " ('old', 75),\n",
       " ('0.2', 72),\n",
       " ('like', 71),\n",
       " ('generation', 70),\n",
       " ('you', 69),\n",
       " ('get', 62),\n",
       " ('us', 62),\n",
       " (\"n't\", 59),\n",
       " ('one', 57),\n",
       " (\"''\", 56),\n",
       " ('and', 56),\n",
       " ('0.5', 53),\n",
       " ('it', 52),\n",
       " ('know', 51),\n",
       " ('#okboomer\"', 51),\n",
       " ('age', 46),\n",
       " ('got', 45),\n",
       " ('amp', 45),\n",
       " ('think', 44),\n",
       " ('my', 44),\n",
       " ('anyone', 43),\n",
       " ('thing', 40),\n",
       " (\"'m\", 39),\n",
       " ('new', 38),\n",
       " ('we', 38),\n",
       " ('said', 37),\n",
       " ('first', 37),\n",
       " ('maybe', 36),\n",
       " ('need', 35),\n",
       " ('make', 35),\n",
       " ('go', 34),\n",
       " ('millennials', 34)]"
      ]
     },
     "execution_count": 6,
     "metadata": {},
     "output_type": "execute_result"
    }
   ],
   "source": [
    "most_common"
   ]
  },
  {
   "cell_type": "code",
   "execution_count": 7,
   "metadata": {},
   "outputs": [
    {
     "data": {
      "image/png": "[encoded data removed]",
      "text/plain": [
       "<Figure size 432x288 with 1 Axes>"
      ]
     },
     "metadata": {
      "needs_background": "light"
     },
     "output_type": "display_data"
    },
    {
     "data": {
      "text/plain": [
       "<matplotlib.axes._subplots.AxesSubplot at 0x1a1c9eb908>"
      ]
     },
     "execution_count": 7,
     "metadata": {},
     "output_type": "execute_result"
    }
   ],
   "source": [
    "#plot 50 most common by count\n",
    "tweets_FD.plot(50, cumulative=True)"
   ]
  }
 ],
 "metadata": {
  "kernelspec": {
   "display_name": "Python 3",
   "language": "python",
   "name": "python3"
  },
  "language_info": {
   "codemirror_mode": {
    "name": "ipython",
    "version": 3
   },
   "file_extension": ".py",
   "mimetype": "text/x-python",
   "name": "python",
   "nbconvert_exporter": "python",
   "pygments_lexer": "ipython3",
   "version": "3.7.3"
  }
 },
 "nbformat": 4,
 "nbformat_minor": 2
}
